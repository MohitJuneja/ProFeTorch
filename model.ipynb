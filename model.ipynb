{
 "cells": [
  {
   "cell_type": "markdown",
   "metadata": {},
   "source": [
    "# Base Model\n",
    "> This class contains the base which is used to train data upon."
   ]
  },
  {
   "cell_type": "code",
   "execution_count": null,
   "metadata": {},
   "outputs": [],
   "source": [
    "# default_exp model.model"
   ]
  },
  {
   "cell_type": "code",
   "execution_count": null,
   "metadata": {},
   "outputs": [],
   "source": [
    "# export\n",
    "import numpy as np\n",
    "import matplotlib.pyplot as plt\n",
    "from functools import partial\n",
    "\n",
    "import torch\n",
    "import torch.nn as nn\n",
    "import torch.nn.functional as F\n",
    "\n",
    "from fastai.basics import Learner, LearnerCallback, Callback\n",
    "\n",
    "from profetorch.model.blocks import DefaultModel, DefaultQModel\n",
    "from profetorch.data.data import create_db, create_tensors, get_moments\n",
    "from profetorch.losses import q_loss\n",
    "from profetorch.callbacks.callbacks import *"
   ]
  },
  {
   "cell_type": "code",
   "execution_count": null,
   "metadata": {},
   "outputs": [],
   "source": [
    "# export\n",
    "class Model(nn.Module):\n",
    "    \"\"\"\n",
    "    Default Model Wrapper\n",
    "    parameters:\n",
    "    - df: dataset used in training dataset.\n",
    "    - model (optional): how to model time series. Default: DefaultModel.\n",
    "    - loss (optional): loss function: Default l1 loss.\n",
    "    - bs (optional): batchsize\n",
    "    - alpha (optional): l2 weight decay\n",
    "    - beta (optional): l1 weight decay\n",
    "    - silent: whether to silence output or not\n",
    "\n",
    "    Usage:\n",
    "    ```\n",
    "    model = Model(train_df)\n",
    "    model.fit(train_df)\n",
    "    y = model.predict(test_df)\n",
    "    ```\n",
    "    \"\"\"\n",
    "    def __init__(self, df, model=None, model_args=None, quantiles=[0.05, 0.5, 0.95], \n",
    "                 loss=None, bs=128, epochs=100, lr=0.3, alpha=0, beta=0.1, silent=True):\n",
    "        super().__init__()\n",
    "        self.moments = get_moments(df.copy())\n",
    "\n",
    "        if loss is None:\n",
    "            self.model = DefaultQModel(self.moments, **model_args, quantiles=quantiles)\n",
    "            self.loss = partial(q_loss, quantiles=quantiles)\n",
    "        else:\n",
    "            self.model = DefaultModel(self.moments, **model_args)\n",
    "            self.loss = loss\n",
    "        self.lr = lr\n",
    "        self.alpha = alpha\n",
    "        self.beta = beta\n",
    "        self.bs = bs\n",
    "        self.epochs = epochs\n",
    "        self.silent = silent\n",
    "        \n",
    "    def fit(self, df):\n",
    "        # self.find_appropriate_lr(df)\n",
    "        learner = self.create_learner(df)\n",
    "        cb = [L1Loss(learner, self.beta), PrintLoss(learner)]\n",
    "        # breakpoint()\n",
    "        \n",
    "        learner.fit_one_cycle(self.epochs, self.lr, callbacks=cb)\n",
    "\n",
    "        self.model = learner.model\n",
    "        \n",
    "    def predict(self, df):\n",
    "        x, _ = create_tensors(df.copy(), self.moments, predict=True)\n",
    "        mean, sd = self.moments['y']\n",
    "        y = sd * self.model(**x) + mean\n",
    "        return y.detach().cpu().numpy()\n",
    "    \n",
    "    def forward(self, *args):\n",
    "        return self.model(*args)\n",
    "    \n",
    "    def create_learner(self, df):\n",
    "        db = create_db(df, bs=self.bs, moments=self.moments)\n",
    "        # breakpoint()\n",
    "        learner = Learner(db, self.model, loss_func=self.loss, wd=self.alpha, silent=True)\n",
    "        return learner"
   ]
  },
  {
   "cell_type": "code",
   "execution_count": null,
   "metadata": {},
   "outputs": [
    {
     "name": "stdout",
     "output_type": "stream",
     "text": [
      "Converted 00_core.ipynb.\n",
      "Converted 99_index.ipynb.\n",
      "Converted blocks.ipynb.\n",
      "Converted callbacks.ipynb.\n",
      "Converted data.ipynb.\n",
      "Converted losses.ipynb.\n",
      "Converted model.ipynb.\n"
     ]
    }
   ],
   "source": [
    "# hide\n",
    "from nbdev.export import *\n",
    "notebook2script()"
   ]
  },
  {
   "cell_type": "code",
   "execution_count": null,
   "metadata": {},
   "outputs": [],
   "source": []
  }
 ],
 "metadata": {
  "kernelspec": {
   "display_name": "Python 3",
   "language": "python",
   "name": "python3"
  }
 },
 "nbformat": 4,
 "nbformat_minor": 2
}
