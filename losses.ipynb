{
 "cells": [
  {
   "cell_type": "code",
   "execution_count": null,
   "metadata": {},
   "outputs": [],
   "source": [
    "# default_exp losses"
   ]
  },
  {
   "cell_type": "code",
   "execution_count": null,
   "metadata": {},
   "outputs": [],
   "source": [
    "# export\n",
    "import torch\n",
    "import torch.nn as nn\n",
    "import torch.nn.functional as F"
   ]
  },
  {
   "cell_type": "code",
   "execution_count": null,
   "metadata": {},
   "outputs": [],
   "source": [
    "# export\n",
    "def mse(y_pred, y, weights=None):\n",
    "    \"\"\"\n",
    "    Mean Squared Error\n",
    "    \"\"\"\n",
    "    return weighted_loss((y_pred - y)**2, weights)\n",
    "\n",
    "def mae(y_pred, y, weights=None):\n",
    "    \"\"\"\n",
    "    Mean Absolute Error\n",
    "    \"\"\"\n",
    "    return weighted_loss(torch.abs(y_pred - y), weights)\n",
    "    \n",
    "def q_loss(y_pred, y, quantiles = [0.05, 0.5, 0.95], weights=None):\n",
    "    \"\"\"\n",
    "    y_pred: Predicted Value\n",
    "    y: Target\n",
    "    quantiles: Quantile\n",
    "    weights(optional): Weighting of prediction-target pair.\n",
    "    \"\"\"\n",
    "    if isinstance(quantiles, list):\n",
    "        e = 0\n",
    "        for q, pred in zip(quantiles, y_pred.split(1, dim=-1)):\n",
    "            e += weighted_loss(tilted_loss(pred, y, q), weights)   \n",
    "        return e.mean()\n",
    "    else:\n",
    "        return weighted_loss(tilted_loss(y_pred, y, quantiles), weights)\n",
    "\n",
    "def tilted_loss(y_pred, y, q=0.5):\n",
    "    \"\"\"\n",
    "    y_pred: Predicted Value\n",
    "    y: Target\n",
    "    q: Quantile\n",
    "    \"\"\"\n",
    "    e = (y - y_pred)\n",
    "    return q * torch.clamp_min(e, 0) + (1-q) * torch.clamp_min(-e, 0)\n",
    "        \n",
    "def weighted_loss(loss, weights):\n",
    "    \"\"\"\n",
    "    Weighted loss\n",
    "    \"\"\"\n",
    "    if weights is not None:\n",
    "        return torch.mean(weights * loss)\n",
    "    else:\n",
    "        return torch.mean(loss)"
   ]
  },
  {
   "cell_type": "code",
   "execution_count": null,
   "metadata": {},
   "outputs": [
    {
     "name": "stdout",
     "output_type": "stream",
     "text": [
      "Converted 00_core.ipynb.\n",
      "Converted 99_index.ipynb.\n",
      "Converted blocks.ipynb.\n",
      "Converted callbacks.ipynb.\n",
      "Converted data.ipynb.\n",
      "Converted losses.ipynb.\n",
      "Converted model.ipynb.\n"
     ]
    }
   ],
   "source": [
    "from nbdev.export import *\n",
    "notebook2script()"
   ]
  },
  {
   "cell_type": "code",
   "execution_count": null,
   "metadata": {},
   "outputs": [],
   "source": []
  }
 ],
 "metadata": {
  "kernelspec": {
   "display_name": "Python 3",
   "language": "python",
   "name": "python3"
  }
 },
 "nbformat": 4,
 "nbformat_minor": 2
}
